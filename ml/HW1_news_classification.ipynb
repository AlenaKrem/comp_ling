{
  "nbformat": 4,
  "nbformat_minor": 0,
  "metadata": {
    "kernelspec": {
      "display_name": "Python 3",
      "language": "python",
      "name": "python3"
    },
    "language_info": {
      "codemirror_mode": {
        "name": "ipython",
        "version": 3
      },
      "file_extension": ".py",
      "mimetype": "text/x-python",
      "name": "python",
      "nbconvert_exporter": "python",
      "pygments_lexer": "ipython3",
      "version": "3.8.0"
    },
    "colab": {
      "name": "HW1-news_classification.ipynb",
      "provenance": []
    }
  },
  "cells": [
    {
      "cell_type": "markdown",
      "metadata": {
        "id": "EdugadtJreiV"
      },
      "source": [
        "В этом дз необходимо обучить модели для классификации. Cегодня попробуем отличать настоящие новости от фейковых\n",
        "\n",
        "\n",
        "#### Decision Trees и Boosting показали лучший результат.\n"
      ]
    },
    {
      "cell_type": "code",
      "metadata": {
        "id": "81XZ1OpSreiX"
      },
      "source": [
        "# ячейка импортов\n",
        "\n",
        "import numpy as np\n",
        "import pandas as pd\n",
        "\n",
        "# импорт моделей\n",
        "from sklearn import feature_extraction, model_selection, naive_bayes, metrics, svm\n",
        "from sklearn.tree import DecisionTreeClassifier\n",
        "from sklearn.ensemble import RandomForestClassifier, GradientBoostingClassifier\n",
        "\n",
        "from sklearn.metrics import classification_report # табличка с метриками\n",
        "\n",
        "import matplotlib.pyplot as plt\n",
        "from collections import Counter\n",
        "\n",
        "# import warnings\n",
        "# warnings.filterwarnings(\"ignore\")\n",
        "# %matplotlib inline "
      ],
      "execution_count": 1,
      "outputs": []
    },
    {
      "cell_type": "markdown",
      "metadata": {
        "id": "Slb_FG74reiY"
      },
      "source": [
        "# Exploratory Data Analysis (EDA)\n",
        "\n"
      ]
    },
    {
      "cell_type": "code",
      "metadata": {
        "id": "fA1PQuHCreiZ",
        "outputId": "64b12702-d0ce-46d4-b852-653d251aa618"
      },
      "source": [
        "! unzip \"news_fake-n-true.csv.zip\""
      ],
      "execution_count": null,
      "outputs": [
        {
          "output_type": "stream",
          "text": [
            "Archive:  news_fake-n-true.csv.zip\n",
            "replace news_fake-n-true.csv? [y]es, [n]o, [A]ll, [N]one, [r]ename: ^C\n"
          ],
          "name": "stdout"
        }
      ]
    },
    {
      "cell_type": "code",
      "metadata": {
        "colab": {
          "base_uri": "https://localhost:8080/",
          "height": 258
        },
        "id": "gFj71kyRreib",
        "outputId": "9012e061-39be-49ce-f4cc-c7a6c0dc0d8a"
      },
      "source": [
        "data = pd.read_csv(\"news_fake-n-true.csv\")\n",
        "data.head(4)"
      ],
      "execution_count": null,
      "outputs": [
        {
          "output_type": "execute_result",
          "data": {
            "text/html": [
              "<div>\n",
              "<style scoped>\n",
              "    .dataframe tbody tr th:only-of-type {\n",
              "        vertical-align: middle;\n",
              "    }\n",
              "\n",
              "    .dataframe tbody tr th {\n",
              "        vertical-align: top;\n",
              "    }\n",
              "\n",
              "    .dataframe thead th {\n",
              "        text-align: right;\n",
              "    }\n",
              "</style>\n",
              "<table border=\"1\" class=\"dataframe\">\n",
              "  <thead>\n",
              "    <tr style=\"text-align: right;\">\n",
              "      <th></th>\n",
              "      <th>Unnamed: 0</th>\n",
              "      <th>title</th>\n",
              "      <th>text</th>\n",
              "      <th>subject</th>\n",
              "      <th>date</th>\n",
              "      <th>label</th>\n",
              "    </tr>\n",
              "  </thead>\n",
              "  <tbody>\n",
              "    <tr>\n",
              "      <th>0</th>\n",
              "      <td>0</td>\n",
              "      <td>ADVISORY: Story on Kushner visiting Iraq withd...</td>\n",
              "      <td>(Reuters) - The story “Trump son-in-law Jared ...</td>\n",
              "      <td>politicsNews</td>\n",
              "      <td>April 3, 2017</td>\n",
              "      <td>1</td>\n",
              "    </tr>\n",
              "    <tr>\n",
              "      <th>1</th>\n",
              "      <td>1</td>\n",
              "      <td>Kasich campaign denies report of Romney endors...</td>\n",
              "      <td>WASHINGTON (Reuters) - Republican presidential...</td>\n",
              "      <td>politicsNews</td>\n",
              "      <td>March 14, 2016</td>\n",
              "      <td>1</td>\n",
              "    </tr>\n",
              "    <tr>\n",
              "      <th>2</th>\n",
              "      <td>2</td>\n",
              "      <td>WATCH: Colbert Devises Perfect Advertisement ...</td>\n",
              "      <td>If America is going to end the day Donald Trum...</td>\n",
              "      <td>News</td>\n",
              "      <td>May 20, 2016</td>\n",
              "      <td>0</td>\n",
              "    </tr>\n",
              "    <tr>\n",
              "      <th>3</th>\n",
              "      <td>3</td>\n",
              "      <td>Trump says hopes for Cuban 'freedom' after Cas...</td>\n",
              "      <td>WEST PALM BEACH, Fla. (Reuters) - U.S. Preside...</td>\n",
              "      <td>politicsNews</td>\n",
              "      <td>November 26, 2016</td>\n",
              "      <td>1</td>\n",
              "    </tr>\n",
              "  </tbody>\n",
              "</table>\n",
              "</div>"
            ],
            "text/plain": [
              "   Unnamed: 0  ... label\n",
              "0           0  ...     1\n",
              "1           1  ...     1\n",
              "2           2  ...     0\n",
              "3           3  ...     1\n",
              "\n",
              "[4 rows x 6 columns]"
            ]
          },
          "metadata": {
            "tags": []
          },
          "execution_count": 6
        }
      ]
    },
    {
      "cell_type": "markdown",
      "metadata": {
        "id": "of7CoTQ7reic"
      },
      "source": [
        "**колонка label отвечает за тип новости: настоящие имеют лейбл 1,  фейковые новости -- с лейблом 0** "
      ]
    },
    {
      "cell_type": "code",
      "metadata": {
        "id": "fOrp1C85reic",
        "outputId": "d545fa9b-48c8-48d5-b80d-f097c15fdf02"
      },
      "source": [
        "# создадим новый датафрейм из старого\n",
        "\n",
        "data_clean = data.drop(['Unnamed: 0','title','subject','date'], axis=1)\n",
        "\n",
        "display(data_clean)"
      ],
      "execution_count": null,
      "outputs": [
        {
          "output_type": "display_data",
          "data": {
            "text/html": [
              "<div>\n",
              "<style scoped>\n",
              "    .dataframe tbody tr th:only-of-type {\n",
              "        vertical-align: middle;\n",
              "    }\n",
              "\n",
              "    .dataframe tbody tr th {\n",
              "        vertical-align: top;\n",
              "    }\n",
              "\n",
              "    .dataframe thead th {\n",
              "        text-align: right;\n",
              "    }\n",
              "</style>\n",
              "<table border=\"1\" class=\"dataframe\">\n",
              "  <thead>\n",
              "    <tr style=\"text-align: right;\">\n",
              "      <th></th>\n",
              "      <th>text</th>\n",
              "      <th>label</th>\n",
              "    </tr>\n",
              "  </thead>\n",
              "  <tbody>\n",
              "    <tr>\n",
              "      <th>0</th>\n",
              "      <td>(Reuters) - The story “Trump son-in-law Jared ...</td>\n",
              "      <td>1</td>\n",
              "    </tr>\n",
              "    <tr>\n",
              "      <th>1</th>\n",
              "      <td>WASHINGTON (Reuters) - Republican presidential...</td>\n",
              "      <td>1</td>\n",
              "    </tr>\n",
              "    <tr>\n",
              "      <th>2</th>\n",
              "      <td>If America is going to end the day Donald Trum...</td>\n",
              "      <td>0</td>\n",
              "    </tr>\n",
              "    <tr>\n",
              "      <th>3</th>\n",
              "      <td>WEST PALM BEACH, Fla. (Reuters) - U.S. Preside...</td>\n",
              "      <td>1</td>\n",
              "    </tr>\n",
              "    <tr>\n",
              "      <th>4</th>\n",
              "      <td>Well, it seems that despite the efforts of not...</td>\n",
              "      <td>0</td>\n",
              "    </tr>\n",
              "    <tr>\n",
              "      <th>...</th>\n",
              "      <td>...</td>\n",
              "      <td>...</td>\n",
              "    </tr>\n",
              "    <tr>\n",
              "      <th>44893</th>\n",
              "      <td>Donald Trump s economic proposals would be dis...</td>\n",
              "      <td>0</td>\n",
              "    </tr>\n",
              "    <tr>\n",
              "      <th>44894</th>\n",
              "      <td>INDIANAPOLIS (Reuters) - President Donald Trum...</td>\n",
              "      <td>1</td>\n",
              "    </tr>\n",
              "    <tr>\n",
              "      <th>44895</th>\n",
              "      <td>During a private meeting of the most senior Re...</td>\n",
              "      <td>0</td>\n",
              "    </tr>\n",
              "    <tr>\n",
              "      <th>44896</th>\n",
              "      <td>AMMAN (Reuters) - Sabih al-Masri, Jordan s mos...</td>\n",
              "      <td>1</td>\n",
              "    </tr>\n",
              "    <tr>\n",
              "      <th>44897</th>\n",
              "      <td>BEIRUT (Reuters) - Lebanese President Michel A...</td>\n",
              "      <td>1</td>\n",
              "    </tr>\n",
              "  </tbody>\n",
              "</table>\n",
              "<p>44898 rows × 2 columns</p>\n",
              "</div>"
            ],
            "text/plain": [
              "                                                    text  label\n",
              "0      (Reuters) - The story “Trump son-in-law Jared ...      1\n",
              "1      WASHINGTON (Reuters) - Republican presidential...      1\n",
              "2      If America is going to end the day Donald Trum...      0\n",
              "3      WEST PALM BEACH, Fla. (Reuters) - U.S. Preside...      1\n",
              "4      Well, it seems that despite the efforts of not...      0\n",
              "...                                                  ...    ...\n",
              "44893  Donald Trump s economic proposals would be dis...      0\n",
              "44894  INDIANAPOLIS (Reuters) - President Donald Trum...      1\n",
              "44895  During a private meeting of the most senior Re...      0\n",
              "44896  AMMAN (Reuters) - Sabih al-Masri, Jordan s mos...      1\n",
              "44897  BEIRUT (Reuters) - Lebanese President Michel A...      1\n",
              "\n",
              "[44898 rows x 2 columns]"
            ]
          },
          "metadata": {
            "tags": []
          }
        }
      ]
    },
    {
      "cell_type": "markdown",
      "metadata": {
        "id": "oz9udS7ureid"
      },
      "source": [
        "распределение настоящих и фейковых новостей примерно равное"
      ]
    },
    {
      "cell_type": "code",
      "metadata": {
        "id": "QgkUr6Xsreid",
        "outputId": "9d55660c-c37d-40f0-fe49-a3b242045fd2"
      },
      "source": [
        "classes =pd.value_counts(data_clean[\"label\"])\n",
        "\n",
        "classes.plot(kind = 'pie',  autopct='%0.f%%') \n",
        "plt.title(\"Classes distribution\")\n",
        "plt.ylabel('')\n",
        "\n",
        "plt.show()"
      ],
      "execution_count": null,
      "outputs": [
        {
          "output_type": "display_data",
          "data": {
            "image/png": "[encoded data removed]",
            "text/plain": [
              "<Figure size 432x288 with 1 Axes>"
            ]
          },
          "metadata": {
            "tags": []
          }
        }
      ]
    },
    {
      "cell_type": "markdown",
      "metadata": {
        "id": "DunDvd-xreie"
      },
      "source": [
        "**давайте попробуем предсказать:** окажется ли текст настоящей новостью или фейковой\n",
        "\n",
        "- Векторизуйте тексты\n",
        "- Разделите данные на обучающую и тестовую выборку\n",
        "\n",
        "Попробуйте обучить разные модели для классификации на данных\n",
        "1. Naive Bayes\n",
        "2. SVM \n",
        "3. Decision Trees\n",
        "4. Random Forest\n",
        "5. Boosting\n",
        "\n",
        "Для каждой модели посмотрите на метрики с помощью функции [classification report](https://scikit-learn.org/stable/modules/generated/sklearn.metrics.classification_report.html).\n",
        "\n",
        "Какая/какие модель/ли справляются с задачей наиболее эффективно?"
      ]
    },
    {
      "cell_type": "markdown",
      "metadata": {
        "id": "MmKrrbhJreif"
      },
      "source": [
        "Векторизуем"
      ]
    },
    {
      "cell_type": "code",
      "metadata": {
        "id": "jTCFMHwZreif",
        "outputId": "487e5b15-fc85-492b-cfc5-3ec0174d0cb1"
      },
      "source": [
        "f = feature_extraction.text.CountVectorizer(stop_words = 'english')\n",
        "X = f.fit_transform(data[\"text\"])\n",
        "\n",
        "display(X.shape)\n",
        "display(X.toarray())"
      ],
      "execution_count": null,
      "outputs": [
        {
          "output_type": "display_data",
          "data": {
            "text/plain": [
              "(44898, 121690)"
            ]
          },
          "metadata": {
            "tags": []
          }
        },
        {
          "output_type": "display_data",
          "data": {
            "text/plain": [
              "array([[0, 0, 0, ..., 0, 0, 0],\n",
              "       [0, 0, 0, ..., 0, 0, 0],\n",
              "       [0, 0, 0, ..., 0, 0, 0],\n",
              "       ...,\n",
              "       [0, 0, 0, ..., 0, 0, 0],\n",
              "       [0, 0, 0, ..., 0, 0, 0],\n",
              "       [0, 0, 0, ..., 0, 0, 0]])"
            ]
          },
          "metadata": {
            "tags": []
          }
        }
      ]
    },
    {
      "cell_type": "markdown",
      "metadata": {
        "id": "fTfEfmAereif"
      },
      "source": [
        "Делим на обучающую и тренировочную выборки"
      ]
    },
    {
      "cell_type": "code",
      "metadata": {
        "id": "GrtO8rvbreig",
        "outputId": "9a248d6f-d13a-4d8c-d334-9236aac281b5"
      },
      "source": [
        "X_train, X_test, y_train, y_test = model_selection.train_test_split(X, data['label'], \n",
        "                                                                    test_size=0.2, random_state=50)\n",
        "\n",
        "print(X_train.shape, X_test.shape)\n",
        "# sum(y_test == 1)"
      ],
      "execution_count": null,
      "outputs": [
        {
          "output_type": "stream",
          "text": [
            "(35918, 121690) (8980, 121690)\n"
          ],
          "name": "stdout"
        }
      ]
    },
    {
      "cell_type": "markdown",
      "metadata": {
        "id": "FDuHfZxrreig"
      },
      "source": [
        "### 1. Naive Bayes"
      ]
    },
    {
      "cell_type": "code",
      "metadata": {
        "id": "X_vVW7j7reih"
      },
      "source": [
        "list_alpha = np.arange(1/100000, 20, 0.11) \n",
        "#возьмем лист равномерно распределенных значений от 1/100000 до 20(можно выбрать другие числа,эти были выбраны экспериментально)\n",
        "\n",
        "\n",
        "score_train = np.zeros(len(list_alpha)) # задали пустые списки по длине изначального листа\n",
        "score_test = np.zeros(len(list_alpha))\n",
        "recall_test = np.zeros(len(list_alpha))\n",
        "precision_test= np.zeros(len(list_alpha))\n",
        "count = 0"
      ],
      "execution_count": null,
      "outputs": []
    },
    {
      "cell_type": "code",
      "metadata": {
        "id": "TXuTDNA_reih"
      },
      "source": [
        "for alpha in list_alpha: # для каждого значения в списке альф\n",
        "    bayes = naive_bayes.MultinomialNB(alpha=alpha) # используем модель\n",
        "    bayes.fit(X_train, y_train) # тренируем модель\n",
        "    \n",
        "    score_train[count] = bayes.score(X_train, y_train) # итерируемся по индексу в листе, добавляем значения accuracy\n",
        "    # score_train? \n",
        "    \n",
        "    score_test[count]= bayes.score(X_test, y_test)\n",
        "    # score_test ? \n",
        "    \n",
        "    recall_test[count] = metrics.recall_score(y_test, bayes.predict(X_test))\n",
        "    precision_test[count] = metrics.precision_score(y_test, bayes.predict(X_test))\n",
        "    \n",
        "    count = count + 1 # после одной итерации, делаем новый шаг"
      ],
      "execution_count": null,
      "outputs": []
    },
    {
      "cell_type": "code",
      "metadata": {
        "id": "k18cNr3vreih",
        "outputId": "f6c00167-6c9a-45b4-c738-84c0358df8fb"
      },
      "source": [
        "matrix = np.matrix(np.c_[list_alpha, score_train, score_test, recall_test, precision_test])\n",
        "models = pd.DataFrame(data = matrix, columns = \n",
        "             ['alpha', 'Train Accuracy', 'Test Accuracy', 'Test Recall', 'Test Precision'])\n",
        "\n",
        "\n",
        "display(models.head(10))\n",
        "\n",
        "display(matrix.shape)"
      ],
      "execution_count": null,
      "outputs": [
        {
          "output_type": "display_data",
          "data": {
            "text/html": [
              "<div>\n",
              "<style scoped>\n",
              "    .dataframe tbody tr th:only-of-type {\n",
              "        vertical-align: middle;\n",
              "    }\n",
              "\n",
              "    .dataframe tbody tr th {\n",
              "        vertical-align: top;\n",
              "    }\n",
              "\n",
              "    .dataframe thead th {\n",
              "        text-align: right;\n",
              "    }\n",
              "</style>\n",
              "<table border=\"1\" class=\"dataframe\">\n",
              "  <thead>\n",
              "    <tr style=\"text-align: right;\">\n",
              "      <th></th>\n",
              "      <th>alpha</th>\n",
              "      <th>Train Accuracy</th>\n",
              "      <th>Test Accuracy</th>\n",
              "      <th>Test Recall</th>\n",
              "      <th>Test Precision</th>\n",
              "    </tr>\n",
              "  </thead>\n",
              "  <tbody>\n",
              "    <tr>\n",
              "      <th>0</th>\n",
              "      <td>0.00001</td>\n",
              "      <td>0.978534</td>\n",
              "      <td>0.960690</td>\n",
              "      <td>0.947677</td>\n",
              "      <td>0.968817</td>\n",
              "    </tr>\n",
              "    <tr>\n",
              "      <th>1</th>\n",
              "      <td>0.11001</td>\n",
              "      <td>0.964419</td>\n",
              "      <td>0.958018</td>\n",
              "      <td>0.953778</td>\n",
              "      <td>0.957597</td>\n",
              "    </tr>\n",
              "    <tr>\n",
              "      <th>2</th>\n",
              "      <td>0.22001</td>\n",
              "      <td>0.962804</td>\n",
              "      <td>0.957906</td>\n",
              "      <td>0.954012</td>\n",
              "      <td>0.957156</td>\n",
              "    </tr>\n",
              "    <tr>\n",
              "      <th>3</th>\n",
              "      <td>0.33001</td>\n",
              "      <td>0.961858</td>\n",
              "      <td>0.957461</td>\n",
              "      <td>0.953778</td>\n",
              "      <td>0.956471</td>\n",
              "    </tr>\n",
              "    <tr>\n",
              "      <th>4</th>\n",
              "      <td>0.44001</td>\n",
              "      <td>0.961022</td>\n",
              "      <td>0.956793</td>\n",
              "      <td>0.953778</td>\n",
              "      <td>0.955122</td>\n",
              "    </tr>\n",
              "    <tr>\n",
              "      <th>5</th>\n",
              "      <td>0.55001</td>\n",
              "      <td>0.960187</td>\n",
              "      <td>0.956347</td>\n",
              "      <td>0.953543</td>\n",
              "      <td>0.954439</td>\n",
              "    </tr>\n",
              "    <tr>\n",
              "      <th>6</th>\n",
              "      <td>0.66001</td>\n",
              "      <td>0.959575</td>\n",
              "      <td>0.955679</td>\n",
              "      <td>0.953074</td>\n",
              "      <td>0.953521</td>\n",
              "    </tr>\n",
              "    <tr>\n",
              "      <th>7</th>\n",
              "      <td>0.77001</td>\n",
              "      <td>0.959101</td>\n",
              "      <td>0.955345</td>\n",
              "      <td>0.953074</td>\n",
              "      <td>0.952850</td>\n",
              "    </tr>\n",
              "    <tr>\n",
              "      <th>8</th>\n",
              "      <td>0.88001</td>\n",
              "      <td>0.958823</td>\n",
              "      <td>0.955011</td>\n",
              "      <td>0.953308</td>\n",
              "      <td>0.951968</td>\n",
              "    </tr>\n",
              "    <tr>\n",
              "      <th>9</th>\n",
              "      <td>0.99001</td>\n",
              "      <td>0.958544</td>\n",
              "      <td>0.954120</td>\n",
              "      <td>0.952604</td>\n",
              "      <td>0.950820</td>\n",
              "    </tr>\n",
              "  </tbody>\n",
              "</table>\n",
              "</div>"
            ],
            "text/plain": [
              "     alpha  Train Accuracy  Test Accuracy  Test Recall  Test Precision\n",
              "0  0.00001        0.978534       0.960690     0.947677        0.968817\n",
              "1  0.11001        0.964419       0.958018     0.953778        0.957597\n",
              "2  0.22001        0.962804       0.957906     0.954012        0.957156\n",
              "3  0.33001        0.961858       0.957461     0.953778        0.956471\n",
              "4  0.44001        0.961022       0.956793     0.953778        0.955122\n",
              "5  0.55001        0.960187       0.956347     0.953543        0.954439\n",
              "6  0.66001        0.959575       0.955679     0.953074        0.953521\n",
              "7  0.77001        0.959101       0.955345     0.953074        0.952850\n",
              "8  0.88001        0.958823       0.955011     0.953308        0.951968\n",
              "9  0.99001        0.958544       0.954120     0.952604        0.950820"
            ]
          },
          "metadata": {
            "tags": []
          }
        },
        {
          "output_type": "display_data",
          "data": {
            "text/plain": [
              "(182, 5)"
            ]
          },
          "metadata": {
            "tags": []
          }
        }
      ]
    },
    {
      "cell_type": "code",
      "metadata": {
        "id": "OgR75P_Mreii",
        "outputId": "d1ea3d9c-fe62-4cef-919c-acdf085db07c"
      },
      "source": [
        "best_index = models['Test Precision'].idxmax()\n",
        "best_index\n",
        "\n",
        "# display(best_index)\n",
        "\n",
        "display(models.iloc[best_index])"
      ],
      "execution_count": null,
      "outputs": [
        {
          "output_type": "display_data",
          "data": {
            "text/plain": [
              "alpha             0.000010\n",
              "Train Accuracy    0.978534\n",
              "Test Accuracy     0.960690\n",
              "Test Recall       0.947677\n",
              "Test Precision    0.968817\n",
              "Name: 0, dtype: float64"
            ]
          },
          "metadata": {
            "tags": []
          }
        }
      ]
    },
    {
      "cell_type": "code",
      "metadata": {
        "id": "adf8YNEtreii",
        "outputId": "90a6fe66-1f8e-4127-bc65-2eb734b8dcec"
      },
      "source": [
        "models[models['Test Recall']>0.9].sort_values(by=\"Test Precision\", ascending = False)"
      ],
      "execution_count": null,
      "outputs": [
        {
          "output_type": "execute_result",
          "data": {
            "text/html": [
              "<div>\n",
              "<style scoped>\n",
              "    .dataframe tbody tr th:only-of-type {\n",
              "        vertical-align: middle;\n",
              "    }\n",
              "\n",
              "    .dataframe tbody tr th {\n",
              "        vertical-align: top;\n",
              "    }\n",
              "\n",
              "    .dataframe thead th {\n",
              "        text-align: right;\n",
              "    }\n",
              "</style>\n",
              "<table border=\"1\" class=\"dataframe\">\n",
              "  <thead>\n",
              "    <tr style=\"text-align: right;\">\n",
              "      <th></th>\n",
              "      <th>alpha</th>\n",
              "      <th>Train Accuracy</th>\n",
              "      <th>Test Accuracy</th>\n",
              "      <th>Test Recall</th>\n",
              "      <th>Test Precision</th>\n",
              "    </tr>\n",
              "  </thead>\n",
              "  <tbody>\n",
              "    <tr>\n",
              "      <th>0</th>\n",
              "      <td>0.00001</td>\n",
              "      <td>0.978534</td>\n",
              "      <td>0.960690</td>\n",
              "      <td>0.947677</td>\n",
              "      <td>0.968817</td>\n",
              "    </tr>\n",
              "    <tr>\n",
              "      <th>1</th>\n",
              "      <td>0.11001</td>\n",
              "      <td>0.964419</td>\n",
              "      <td>0.958018</td>\n",
              "      <td>0.953778</td>\n",
              "      <td>0.957597</td>\n",
              "    </tr>\n",
              "    <tr>\n",
              "      <th>2</th>\n",
              "      <td>0.22001</td>\n",
              "      <td>0.962804</td>\n",
              "      <td>0.957906</td>\n",
              "      <td>0.954012</td>\n",
              "      <td>0.957156</td>\n",
              "    </tr>\n",
              "    <tr>\n",
              "      <th>3</th>\n",
              "      <td>0.33001</td>\n",
              "      <td>0.961858</td>\n",
              "      <td>0.957461</td>\n",
              "      <td>0.953778</td>\n",
              "      <td>0.956471</td>\n",
              "    </tr>\n",
              "    <tr>\n",
              "      <th>4</th>\n",
              "      <td>0.44001</td>\n",
              "      <td>0.961022</td>\n",
              "      <td>0.956793</td>\n",
              "      <td>0.953778</td>\n",
              "      <td>0.955122</td>\n",
              "    </tr>\n",
              "    <tr>\n",
              "      <th>...</th>\n",
              "      <td>...</td>\n",
              "      <td>...</td>\n",
              "      <td>...</td>\n",
              "      <td>...</td>\n",
              "      <td>...</td>\n",
              "    </tr>\n",
              "    <tr>\n",
              "      <th>59</th>\n",
              "      <td>6.49001</td>\n",
              "      <td>0.952781</td>\n",
              "      <td>0.949666</td>\n",
              "      <td>0.949085</td>\n",
              "      <td>0.945093</td>\n",
              "    </tr>\n",
              "    <tr>\n",
              "      <th>63</th>\n",
              "      <td>6.93001</td>\n",
              "      <td>0.952586</td>\n",
              "      <td>0.949555</td>\n",
              "      <td>0.948850</td>\n",
              "      <td>0.945081</td>\n",
              "    </tr>\n",
              "    <tr>\n",
              "      <th>62</th>\n",
              "      <td>6.82001</td>\n",
              "      <td>0.952614</td>\n",
              "      <td>0.949555</td>\n",
              "      <td>0.948850</td>\n",
              "      <td>0.945081</td>\n",
              "    </tr>\n",
              "    <tr>\n",
              "      <th>45</th>\n",
              "      <td>4.95001</td>\n",
              "      <td>0.953644</td>\n",
              "      <td>0.950111</td>\n",
              "      <td>0.950258</td>\n",
              "      <td>0.944937</td>\n",
              "    </tr>\n",
              "    <tr>\n",
              "      <th>44</th>\n",
              "      <td>4.84001</td>\n",
              "      <td>0.953617</td>\n",
              "      <td>0.950111</td>\n",
              "      <td>0.950258</td>\n",
              "      <td>0.944937</td>\n",
              "    </tr>\n",
              "  </tbody>\n",
              "</table>\n",
              "<p>182 rows × 5 columns</p>\n",
              "</div>"
            ],
            "text/plain": [
              "      alpha  Train Accuracy  Test Accuracy  Test Recall  Test Precision\n",
              "0   0.00001        0.978534       0.960690     0.947677        0.968817\n",
              "1   0.11001        0.964419       0.958018     0.953778        0.957597\n",
              "2   0.22001        0.962804       0.957906     0.954012        0.957156\n",
              "3   0.33001        0.961858       0.957461     0.953778        0.956471\n",
              "4   0.44001        0.961022       0.956793     0.953778        0.955122\n",
              "..      ...             ...            ...          ...             ...\n",
              "59  6.49001        0.952781       0.949666     0.949085        0.945093\n",
              "63  6.93001        0.952586       0.949555     0.948850        0.945081\n",
              "62  6.82001        0.952614       0.949555     0.948850        0.945081\n",
              "45  4.95001        0.953644       0.950111     0.950258        0.944937\n",
              "44  4.84001        0.953617       0.950111     0.950258        0.944937\n",
              "\n",
              "[182 rows x 5 columns]"
            ]
          },
          "metadata": {
            "tags": []
          },
          "execution_count": 14
        }
      ]
    },
    {
      "cell_type": "code",
      "metadata": {
        "id": "Z7JwkN1Ireij",
        "outputId": "d4aefeee-5f53-46f5-b711-f365d65c18d6"
      },
      "source": [
        "models[models['Test Recall']>0.9].sort_values(by=\"Test Precision\", ascending = False)"
      ],
      "execution_count": null,
      "outputs": [
        {
          "output_type": "execute_result",
          "data": {
            "text/html": [
              "<div>\n",
              "<style scoped>\n",
              "    .dataframe tbody tr th:only-of-type {\n",
              "        vertical-align: middle;\n",
              "    }\n",
              "\n",
              "    .dataframe tbody tr th {\n",
              "        vertical-align: top;\n",
              "    }\n",
              "\n",
              "    .dataframe thead th {\n",
              "        text-align: right;\n",
              "    }\n",
              "</style>\n",
              "<table border=\"1\" class=\"dataframe\">\n",
              "  <thead>\n",
              "    <tr style=\"text-align: right;\">\n",
              "      <th></th>\n",
              "      <th>alpha</th>\n",
              "      <th>Train Accuracy</th>\n",
              "      <th>Test Accuracy</th>\n",
              "      <th>Test Recall</th>\n",
              "      <th>Test Precision</th>\n",
              "    </tr>\n",
              "  </thead>\n",
              "  <tbody>\n",
              "    <tr>\n",
              "      <th>0</th>\n",
              "      <td>0.00001</td>\n",
              "      <td>0.978534</td>\n",
              "      <td>0.960690</td>\n",
              "      <td>0.947677</td>\n",
              "      <td>0.968817</td>\n",
              "    </tr>\n",
              "    <tr>\n",
              "      <th>1</th>\n",
              "      <td>0.11001</td>\n",
              "      <td>0.964419</td>\n",
              "      <td>0.958018</td>\n",
              "      <td>0.953778</td>\n",
              "      <td>0.957597</td>\n",
              "    </tr>\n",
              "    <tr>\n",
              "      <th>2</th>\n",
              "      <td>0.22001</td>\n",
              "      <td>0.962804</td>\n",
              "      <td>0.957906</td>\n",
              "      <td>0.954012</td>\n",
              "      <td>0.957156</td>\n",
              "    </tr>\n",
              "    <tr>\n",
              "      <th>3</th>\n",
              "      <td>0.33001</td>\n",
              "      <td>0.961858</td>\n",
              "      <td>0.957461</td>\n",
              "      <td>0.953778</td>\n",
              "      <td>0.956471</td>\n",
              "    </tr>\n",
              "    <tr>\n",
              "      <th>4</th>\n",
              "      <td>0.44001</td>\n",
              "      <td>0.961022</td>\n",
              "      <td>0.956793</td>\n",
              "      <td>0.953778</td>\n",
              "      <td>0.955122</td>\n",
              "    </tr>\n",
              "    <tr>\n",
              "      <th>...</th>\n",
              "      <td>...</td>\n",
              "      <td>...</td>\n",
              "      <td>...</td>\n",
              "      <td>...</td>\n",
              "      <td>...</td>\n",
              "    </tr>\n",
              "    <tr>\n",
              "      <th>59</th>\n",
              "      <td>6.49001</td>\n",
              "      <td>0.952781</td>\n",
              "      <td>0.949666</td>\n",
              "      <td>0.949085</td>\n",
              "      <td>0.945093</td>\n",
              "    </tr>\n",
              "    <tr>\n",
              "      <th>63</th>\n",
              "      <td>6.93001</td>\n",
              "      <td>0.952586</td>\n",
              "      <td>0.949555</td>\n",
              "      <td>0.948850</td>\n",
              "      <td>0.945081</td>\n",
              "    </tr>\n",
              "    <tr>\n",
              "      <th>62</th>\n",
              "      <td>6.82001</td>\n",
              "      <td>0.952614</td>\n",
              "      <td>0.949555</td>\n",
              "      <td>0.948850</td>\n",
              "      <td>0.945081</td>\n",
              "    </tr>\n",
              "    <tr>\n",
              "      <th>45</th>\n",
              "      <td>4.95001</td>\n",
              "      <td>0.953644</td>\n",
              "      <td>0.950111</td>\n",
              "      <td>0.950258</td>\n",
              "      <td>0.944937</td>\n",
              "    </tr>\n",
              "    <tr>\n",
              "      <th>44</th>\n",
              "      <td>4.84001</td>\n",
              "      <td>0.953617</td>\n",
              "      <td>0.950111</td>\n",
              "      <td>0.950258</td>\n",
              "      <td>0.944937</td>\n",
              "    </tr>\n",
              "  </tbody>\n",
              "</table>\n",
              "<p>182 rows × 5 columns</p>\n",
              "</div>"
            ],
            "text/plain": [
              "      alpha  Train Accuracy  Test Accuracy  Test Recall  Test Precision\n",
              "0   0.00001        0.978534       0.960690     0.947677        0.968817\n",
              "1   0.11001        0.964419       0.958018     0.953778        0.957597\n",
              "2   0.22001        0.962804       0.957906     0.954012        0.957156\n",
              "3   0.33001        0.961858       0.957461     0.953778        0.956471\n",
              "4   0.44001        0.961022       0.956793     0.953778        0.955122\n",
              "..      ...             ...            ...          ...             ...\n",
              "59  6.49001        0.952781       0.949666     0.949085        0.945093\n",
              "63  6.93001        0.952586       0.949555     0.948850        0.945081\n",
              "62  6.82001        0.952614       0.949555     0.948850        0.945081\n",
              "45  4.95001        0.953644       0.950111     0.950258        0.944937\n",
              "44  4.84001        0.953617       0.950111     0.950258        0.944937\n",
              "\n",
              "[182 rows x 5 columns]"
            ]
          },
          "metadata": {
            "tags": []
          },
          "execution_count": 19
        }
      ]
    },
    {
      "cell_type": "code",
      "metadata": {
        "id": "HyiX5Vewreij",
        "outputId": "74c47bd8-5ba3-4904-815d-683c3b990e61"
      },
      "source": [
        "best_index = models[models['Test Precision']>0.95]['Test Accuracy'].idxmax()\n",
        "\n",
        "models.iloc[best_index]"
      ],
      "execution_count": null,
      "outputs": [
        {
          "output_type": "execute_result",
          "data": {
            "text/plain": [
              "alpha             0.000010\n",
              "Train Accuracy    0.978534\n",
              "Test Accuracy     0.960690\n",
              "Test Recall       0.947677\n",
              "Test Precision    0.968817\n",
              "Name: 0, dtype: float64"
            ]
          },
          "metadata": {
            "tags": []
          },
          "execution_count": 22
        }
      ]
    },
    {
      "cell_type": "code",
      "metadata": {
        "id": "-m2vkmTureik",
        "outputId": "7165b732-9909-452d-c37e-5e1da6767757"
      },
      "source": [
        "bayes = naive_bayes.MultinomialNB(alpha= 0.000010) # используем лучшую модель\n",
        "bayes.fit(X_train, y_train) # тренируем алгоритм на данных\n",
        "\n",
        "bayes.predict(X_test) # метод для предсказания\n",
        "\n",
        "# сделаем датафрейм с колонками для настоящего класса и для предсказанного\n",
        "\n",
        "new_df = pd.DataFrame(data = y_test)\n",
        "new_df[\"predicted\"]=bayes.predict(X_test) # добавляем новую колонку с предсказаниями\n",
        "\n",
        "new_df"
      ],
      "execution_count": null,
      "outputs": [
        {
          "output_type": "execute_result",
          "data": {
            "text/html": [
              "<div>\n",
              "<style scoped>\n",
              "    .dataframe tbody tr th:only-of-type {\n",
              "        vertical-align: middle;\n",
              "    }\n",
              "\n",
              "    .dataframe tbody tr th {\n",
              "        vertical-align: top;\n",
              "    }\n",
              "\n",
              "    .dataframe thead th {\n",
              "        text-align: right;\n",
              "    }\n",
              "</style>\n",
              "<table border=\"1\" class=\"dataframe\">\n",
              "  <thead>\n",
              "    <tr style=\"text-align: right;\">\n",
              "      <th></th>\n",
              "      <th>label</th>\n",
              "      <th>predicted</th>\n",
              "    </tr>\n",
              "  </thead>\n",
              "  <tbody>\n",
              "    <tr>\n",
              "      <th>18322</th>\n",
              "      <td>0</td>\n",
              "      <td>0</td>\n",
              "    </tr>\n",
              "    <tr>\n",
              "      <th>6805</th>\n",
              "      <td>0</td>\n",
              "      <td>0</td>\n",
              "    </tr>\n",
              "    <tr>\n",
              "      <th>11776</th>\n",
              "      <td>0</td>\n",
              "      <td>0</td>\n",
              "    </tr>\n",
              "    <tr>\n",
              "      <th>43603</th>\n",
              "      <td>1</td>\n",
              "      <td>1</td>\n",
              "    </tr>\n",
              "    <tr>\n",
              "      <th>1166</th>\n",
              "      <td>1</td>\n",
              "      <td>1</td>\n",
              "    </tr>\n",
              "    <tr>\n",
              "      <th>...</th>\n",
              "      <td>...</td>\n",
              "      <td>...</td>\n",
              "    </tr>\n",
              "    <tr>\n",
              "      <th>3814</th>\n",
              "      <td>0</td>\n",
              "      <td>0</td>\n",
              "    </tr>\n",
              "    <tr>\n",
              "      <th>27520</th>\n",
              "      <td>1</td>\n",
              "      <td>1</td>\n",
              "    </tr>\n",
              "    <tr>\n",
              "      <th>11071</th>\n",
              "      <td>0</td>\n",
              "      <td>1</td>\n",
              "    </tr>\n",
              "    <tr>\n",
              "      <th>2479</th>\n",
              "      <td>0</td>\n",
              "      <td>0</td>\n",
              "    </tr>\n",
              "    <tr>\n",
              "      <th>10428</th>\n",
              "      <td>1</td>\n",
              "      <td>0</td>\n",
              "    </tr>\n",
              "  </tbody>\n",
              "</table>\n",
              "<p>8980 rows × 2 columns</p>\n",
              "</div>"
            ],
            "text/plain": [
              "       label  predicted\n",
              "18322      0          0\n",
              "6805       0          0\n",
              "11776      0          0\n",
              "43603      1          1\n",
              "1166       1          1\n",
              "...      ...        ...\n",
              "3814       0          0\n",
              "27520      1          1\n",
              "11071      0          1\n",
              "2479       0          0\n",
              "10428      1          0\n",
              "\n",
              "[8980 rows x 2 columns]"
            ]
          },
          "metadata": {
            "tags": []
          },
          "execution_count": 23
        }
      ]
    },
    {
      "cell_type": "code",
      "metadata": {
        "id": "K-s-SYAkreik",
        "outputId": "0a2c92e2-c059-4b41-89ee-dd46bb183815"
      },
      "source": [
        "m_confusion_test = metrics.confusion_matrix(y_test, bayes.predict(X_test))\n",
        "\n",
        "\n",
        "pd.DataFrame(data = m_confusion_test, columns = ['Предсказанные новости', 'Предсказанныее фейки'],\n",
        "            index = ['Реальные новости', 'Реальные фейки'])"
      ],
      "execution_count": null,
      "outputs": [
        {
          "output_type": "execute_result",
          "data": {
            "text/html": [
              "<div>\n",
              "<style scoped>\n",
              "    .dataframe tbody tr th:only-of-type {\n",
              "        vertical-align: middle;\n",
              "    }\n",
              "\n",
              "    .dataframe tbody tr th {\n",
              "        vertical-align: top;\n",
              "    }\n",
              "\n",
              "    .dataframe thead th {\n",
              "        text-align: right;\n",
              "    }\n",
              "</style>\n",
              "<table border=\"1\" class=\"dataframe\">\n",
              "  <thead>\n",
              "    <tr style=\"text-align: right;\">\n",
              "      <th></th>\n",
              "      <th>Предсказанные новости</th>\n",
              "      <th>Предсказанныее фейки</th>\n",
              "    </tr>\n",
              "  </thead>\n",
              "  <tbody>\n",
              "    <tr>\n",
              "      <th>Реальные новости</th>\n",
              "      <td>4588</td>\n",
              "      <td>130</td>\n",
              "    </tr>\n",
              "    <tr>\n",
              "      <th>Реальные фейки</th>\n",
              "      <td>223</td>\n",
              "      <td>4039</td>\n",
              "    </tr>\n",
              "  </tbody>\n",
              "</table>\n",
              "</div>"
            ],
            "text/plain": [
              "                  Предсказанные новости  Предсказанныее фейки\n",
              "Реальные новости                   4588                   130\n",
              "Реальные фейки                      223                  4039"
            ]
          },
          "metadata": {
            "tags": []
          },
          "execution_count": 25
        }
      ]
    },
    {
      "cell_type": "markdown",
      "metadata": {
        "id": "cyPevG5Oreil"
      },
      "source": [
        "Classification report"
      ]
    },
    {
      "cell_type": "code",
      "metadata": {
        "id": "YudspGMareil",
        "outputId": "066c8391-d417-4cf5-c341-6281fd946b69"
      },
      "source": [
        "print(classification_report(y_test, bayes.predict(X_test)))"
      ],
      "execution_count": null,
      "outputs": [
        {
          "output_type": "stream",
          "text": [
            "              precision    recall  f1-score   support\n",
            "\n",
            "           0       0.95      0.97      0.96      4718\n",
            "           1       0.97      0.95      0.96      4262\n",
            "\n",
            "    accuracy                           0.96      8980\n",
            "   macro avg       0.96      0.96      0.96      8980\n",
            "weighted avg       0.96      0.96      0.96      8980\n",
            "\n"
          ],
          "name": "stdout"
        }
      ]
    },
    {
      "cell_type": "markdown",
      "metadata": {
        "id": "QwTUmgzareil"
      },
      "source": [
        "### 2. SVM"
      ]
    },
    {
      "cell_type": "markdown",
      "metadata": {
        "id": "UP9TPl9Jreim"
      },
      "source": [
        "Работает ооооочень медленно"
      ]
    },
    {
      "cell_type": "code",
      "metadata": {
        "colab": {
          "base_uri": "https://localhost:8080/",
          "height": 419
        },
        "id": "awCE26ltreim",
        "outputId": "691ae743-0bdb-42e2-c8c1-5d284053876a"
      },
      "source": [
        "import pandas as pd\n",
        "data = pd.read_csv(\"news_fake-n-true.csv\")\n",
        "data_clean = data.drop(['Unnamed: 0','title','subject','date'], axis=1)\n",
        "display(data_clean)"
      ],
      "execution_count": 2,
      "outputs": [
        {
          "output_type": "display_data",
          "data": {
            "text/html": [
              "<div>\n",
              "<style scoped>\n",
              "    .dataframe tbody tr th:only-of-type {\n",
              "        vertical-align: middle;\n",
              "    }\n",
              "\n",
              "    .dataframe tbody tr th {\n",
              "        vertical-align: top;\n",
              "    }\n",
              "\n",
              "    .dataframe thead th {\n",
              "        text-align: right;\n",
              "    }\n",
              "</style>\n",
              "<table border=\"1\" class=\"dataframe\">\n",
              "  <thead>\n",
              "    <tr style=\"text-align: right;\">\n",
              "      <th></th>\n",
              "      <th>text</th>\n",
              "      <th>label</th>\n",
              "    </tr>\n",
              "  </thead>\n",
              "  <tbody>\n",
              "    <tr>\n",
              "      <th>0</th>\n",
              "      <td>(Reuters) - The story “Trump son-in-law Jared ...</td>\n",
              "      <td>1</td>\n",
              "    </tr>\n",
              "    <tr>\n",
              "      <th>1</th>\n",
              "      <td>WASHINGTON (Reuters) - Republican presidential...</td>\n",
              "      <td>1</td>\n",
              "    </tr>\n",
              "    <tr>\n",
              "      <th>2</th>\n",
              "      <td>If America is going to end the day Donald Trum...</td>\n",
              "      <td>0</td>\n",
              "    </tr>\n",
              "    <tr>\n",
              "      <th>3</th>\n",
              "      <td>WEST PALM BEACH, Fla. (Reuters) - U.S. Preside...</td>\n",
              "      <td>1</td>\n",
              "    </tr>\n",
              "    <tr>\n",
              "      <th>4</th>\n",
              "      <td>Well, it seems that despite the efforts of not...</td>\n",
              "      <td>0</td>\n",
              "    </tr>\n",
              "    <tr>\n",
              "      <th>...</th>\n",
              "      <td>...</td>\n",
              "      <td>...</td>\n",
              "    </tr>\n",
              "    <tr>\n",
              "      <th>44893</th>\n",
              "      <td>Donald Trump s economic proposals would be dis...</td>\n",
              "      <td>0</td>\n",
              "    </tr>\n",
              "    <tr>\n",
              "      <th>44894</th>\n",
              "      <td>INDIANAPOLIS (Reuters) - President Donald Trum...</td>\n",
              "      <td>1</td>\n",
              "    </tr>\n",
              "    <tr>\n",
              "      <th>44895</th>\n",
              "      <td>During a private meeting of the most senior Re...</td>\n",
              "      <td>0</td>\n",
              "    </tr>\n",
              "    <tr>\n",
              "      <th>44896</th>\n",
              "      <td>AMMAN (Reuters) - Sabih al-Masri, Jordan s mos...</td>\n",
              "      <td>1</td>\n",
              "    </tr>\n",
              "    <tr>\n",
              "      <th>44897</th>\n",
              "      <td>BEIRUT (Reuters) - Lebanese President Michel A...</td>\n",
              "      <td>1</td>\n",
              "    </tr>\n",
              "  </tbody>\n",
              "</table>\n",
              "<p>44898 rows × 2 columns</p>\n",
              "</div>"
            ],
            "text/plain": [
              "                                                    text  label\n",
              "0      (Reuters) - The story “Trump son-in-law Jared ...      1\n",
              "1      WASHINGTON (Reuters) - Republican presidential...      1\n",
              "2      If America is going to end the day Donald Trum...      0\n",
              "3      WEST PALM BEACH, Fla. (Reuters) - U.S. Preside...      1\n",
              "4      Well, it seems that despite the efforts of not...      0\n",
              "...                                                  ...    ...\n",
              "44893  Donald Trump s economic proposals would be dis...      0\n",
              "44894  INDIANAPOLIS (Reuters) - President Donald Trum...      1\n",
              "44895  During a private meeting of the most senior Re...      0\n",
              "44896  AMMAN (Reuters) - Sabih al-Masri, Jordan s mos...      1\n",
              "44897  BEIRUT (Reuters) - Lebanese President Michel A...      1\n",
              "\n",
              "[44898 rows x 2 columns]"
            ]
          },
          "metadata": {
            "tags": []
          }
        }
      ]
    },
    {
      "cell_type": "code",
      "metadata": {
        "id": "8cYfKumrrein"
      },
      "source": [
        "from sklearn.feature_extraction.text import TfidfVectorizer\n",
        "vectorizer = TfidfVectorizer(stop_words=\"english\")\n",
        "\n",
        "X = vectorizer.fit_transform(data_clean['text'])"
      ],
      "execution_count": 3,
      "outputs": []
    },
    {
      "cell_type": "code",
      "metadata": {
        "id": "qtPCi6gIrein"
      },
      "source": [
        "from sklearn.model_selection import train_test_split\n",
        "X_train, X_test, y_train, y_test = train_test_split( X, data[\"label\"], test_size=0.3, random_state=25)"
      ],
      "execution_count": 4,
      "outputs": []
    },
    {
      "cell_type": "code",
      "metadata": {
        "colab": {
          "base_uri": "https://localhost:8080/"
        },
        "id": "d2bXMwqfrein",
        "outputId": "3cba5154-fe49-4c9c-fc63-5a4a78efe4e8"
      },
      "source": [
        "list_C = np.arange(500, 700, 100) #100000\n",
        "\n",
        "score_train = np.zeros(len(list_C))\n",
        "score_test = np.zeros(len(list_C))\n",
        "recall_test = np.zeros(len(list_C))\n",
        "precision_test= np.zeros(len(list_C))\n",
        "count = 0\n",
        "for C in list_C:\n",
        "    svc = svm.SVC(C=C, verbose = 5)\n",
        "    svc.fit(X_train, y_train)\n",
        "    score_train[count] = svc.score(X_train, y_train)\n",
        "    score_test[count]= svc.score(X_test, y_test)\n",
        "    recall_test[count] = metrics.recall_score(y_test, svc.predict(X_test))\n",
        "    precision_test[count] = metrics.precision_score(y_test, svc.predict(X_test))\n",
        "    count = count + 1 "
      ],
      "execution_count": 6,
      "outputs": [
        {
          "output_type": "stream",
          "text": [
            "[LibSVM][LibSVM]"
          ],
          "name": "stdout"
        }
      ]
    },
    {
      "cell_type": "code",
      "metadata": {
        "colab": {
          "base_uri": "https://localhost:8080/",
          "height": 111
        },
        "id": "8vOKyWHq2M2l",
        "outputId": "df0950ea-e8b3-43d8-bb59-a75198c504b5"
      },
      "source": [
        "matrix = np.matrix(np.c_[list_C, score_train, score_test, recall_test, precision_test])\n",
        "models = pd.DataFrame(data = matrix, columns = \n",
        "             ['C', 'Train Accuracy', 'Test Accuracy', 'Test Recall', 'Test Precision'])\n",
        "models.head(n=10)"
      ],
      "execution_count": 7,
      "outputs": [
        {
          "output_type": "execute_result",
          "data": {
            "text/html": [
              "<div>\n",
              "<style scoped>\n",
              "    .dataframe tbody tr th:only-of-type {\n",
              "        vertical-align: middle;\n",
              "    }\n",
              "\n",
              "    .dataframe tbody tr th {\n",
              "        vertical-align: top;\n",
              "    }\n",
              "\n",
              "    .dataframe thead th {\n",
              "        text-align: right;\n",
              "    }\n",
              "</style>\n",
              "<table border=\"1\" class=\"dataframe\">\n",
              "  <thead>\n",
              "    <tr style=\"text-align: right;\">\n",
              "      <th></th>\n",
              "      <th>C</th>\n",
              "      <th>Train Accuracy</th>\n",
              "      <th>Test Accuracy</th>\n",
              "      <th>Test Recall</th>\n",
              "      <th>Test Precision</th>\n",
              "    </tr>\n",
              "  </thead>\n",
              "  <tbody>\n",
              "    <tr>\n",
              "      <th>0</th>\n",
              "      <td>500.0</td>\n",
              "      <td>0.999968</td>\n",
              "      <td>0.991982</td>\n",
              "      <td>0.992942</td>\n",
              "      <td>0.990147</td>\n",
              "    </tr>\n",
              "    <tr>\n",
              "      <th>1</th>\n",
              "      <td>600.0</td>\n",
              "      <td>0.999968</td>\n",
              "      <td>0.991982</td>\n",
              "      <td>0.992942</td>\n",
              "      <td>0.990147</td>\n",
              "    </tr>\n",
              "  </tbody>\n",
              "</table>\n",
              "</div>"
            ],
            "text/plain": [
              "       C  Train Accuracy  Test Accuracy  Test Recall  Test Precision\n",
              "0  500.0        0.999968       0.991982     0.992942        0.990147\n",
              "1  600.0        0.999968       0.991982     0.992942        0.990147"
            ]
          },
          "metadata": {
            "tags": []
          },
          "execution_count": 7
        }
      ]
    },
    {
      "cell_type": "code",
      "metadata": {
        "id": "MjoMBNcA2Upl",
        "colab": {
          "base_uri": "https://localhost:8080/",
          "height": 119
        },
        "outputId": "4295a8a0-2c08-4565-907d-7f523f68d43e"
      },
      "source": [
        "best_index = models['Test Precision'].idxmax()\n",
        "\n",
        "display(models.iloc[best_index, :])"
      ],
      "execution_count": 8,
      "outputs": [
        {
          "output_type": "display_data",
          "data": {
            "text/plain": [
              "C                 500.000000\n",
              "Train Accuracy      0.999968\n",
              "Test Accuracy       0.991982\n",
              "Test Recall         0.992942\n",
              "Test Precision      0.990147\n",
              "Name: 0, dtype: float64"
            ]
          },
          "metadata": {
            "tags": []
          }
        }
      ]
    },
    {
      "cell_type": "code",
      "metadata": {
        "id": "HWkgTNF52Xsf",
        "colab": {
          "base_uri": "https://localhost:8080/",
          "height": 111
        },
        "outputId": "bcadc6ba-4e16-4cd9-b2c0-adc1bf37bfb2"
      },
      "source": [
        "# посмотрим на модели с почти 100% Precision\n",
        "\n",
        "models[models['Test Precision']>0.99].head(5)"
      ],
      "execution_count": 9,
      "outputs": [
        {
          "output_type": "execute_result",
          "data": {
            "text/html": [
              "<div>\n",
              "<style scoped>\n",
              "    .dataframe tbody tr th:only-of-type {\n",
              "        vertical-align: middle;\n",
              "    }\n",
              "\n",
              "    .dataframe tbody tr th {\n",
              "        vertical-align: top;\n",
              "    }\n",
              "\n",
              "    .dataframe thead th {\n",
              "        text-align: right;\n",
              "    }\n",
              "</style>\n",
              "<table border=\"1\" class=\"dataframe\">\n",
              "  <thead>\n",
              "    <tr style=\"text-align: right;\">\n",
              "      <th></th>\n",
              "      <th>C</th>\n",
              "      <th>Train Accuracy</th>\n",
              "      <th>Test Accuracy</th>\n",
              "      <th>Test Recall</th>\n",
              "      <th>Test Precision</th>\n",
              "    </tr>\n",
              "  </thead>\n",
              "  <tbody>\n",
              "    <tr>\n",
              "      <th>0</th>\n",
              "      <td>500.0</td>\n",
              "      <td>0.999968</td>\n",
              "      <td>0.991982</td>\n",
              "      <td>0.992942</td>\n",
              "      <td>0.990147</td>\n",
              "    </tr>\n",
              "    <tr>\n",
              "      <th>1</th>\n",
              "      <td>600.0</td>\n",
              "      <td>0.999968</td>\n",
              "      <td>0.991982</td>\n",
              "      <td>0.992942</td>\n",
              "      <td>0.990147</td>\n",
              "    </tr>\n",
              "  </tbody>\n",
              "</table>\n",
              "</div>"
            ],
            "text/plain": [
              "       C  Train Accuracy  Test Accuracy  Test Recall  Test Precision\n",
              "0  500.0        0.999968       0.991982     0.992942        0.990147\n",
              "1  600.0        0.999968       0.991982     0.992942        0.990147"
            ]
          },
          "metadata": {
            "tags": []
          },
          "execution_count": 9
        }
      ]
    },
    {
      "cell_type": "code",
      "metadata": {
        "id": "3JSYk1m42c-J"
      },
      "source": [
        "m_confusion_test = metrics.confusion_matrix(y_test, svc.predict(X_test))\n",
        "pd.DataFrame(data = m_confusion_test, columns = ['Predicted 0', 'Predicted 1'],\n",
        "            index = ['Actual 0', 'Actual 1'])"
      ],
      "execution_count": null,
      "outputs": []
    },
    {
      "cell_type": "markdown",
      "metadata": {
        "id": "LJ6rVDALreio"
      },
      "source": [
        "### 3. Decision Trees"
      ]
    },
    {
      "cell_type": "code",
      "metadata": {
        "id": "d9w_kiWireip",
        "outputId": "916fc454-8cfe-4754-eab1-9013f2d1d776"
      },
      "source": [
        "data = pd.read_csv(\"news_fake-n-true.csv\")\n",
        "data_clean = data.drop(['Unnamed: 0','title','subject','date'], axis=1)\n",
        "display(data_clean)"
      ],
      "execution_count": null,
      "outputs": [
        {
          "output_type": "display_data",
          "data": {
            "text/html": [
              "<div>\n",
              "<style scoped>\n",
              "    .dataframe tbody tr th:only-of-type {\n",
              "        vertical-align: middle;\n",
              "    }\n",
              "\n",
              "    .dataframe tbody tr th {\n",
              "        vertical-align: top;\n",
              "    }\n",
              "\n",
              "    .dataframe thead th {\n",
              "        text-align: right;\n",
              "    }\n",
              "</style>\n",
              "<table border=\"1\" class=\"dataframe\">\n",
              "  <thead>\n",
              "    <tr style=\"text-align: right;\">\n",
              "      <th></th>\n",
              "      <th>text</th>\n",
              "      <th>label</th>\n",
              "    </tr>\n",
              "  </thead>\n",
              "  <tbody>\n",
              "    <tr>\n",
              "      <th>0</th>\n",
              "      <td>(Reuters) - The story “Trump son-in-law Jared ...</td>\n",
              "      <td>1</td>\n",
              "    </tr>\n",
              "    <tr>\n",
              "      <th>1</th>\n",
              "      <td>WASHINGTON (Reuters) - Republican presidential...</td>\n",
              "      <td>1</td>\n",
              "    </tr>\n",
              "    <tr>\n",
              "      <th>2</th>\n",
              "      <td>If America is going to end the day Donald Trum...</td>\n",
              "      <td>0</td>\n",
              "    </tr>\n",
              "    <tr>\n",
              "      <th>3</th>\n",
              "      <td>WEST PALM BEACH, Fla. (Reuters) - U.S. Preside...</td>\n",
              "      <td>1</td>\n",
              "    </tr>\n",
              "    <tr>\n",
              "      <th>4</th>\n",
              "      <td>Well, it seems that despite the efforts of not...</td>\n",
              "      <td>0</td>\n",
              "    </tr>\n",
              "    <tr>\n",
              "      <th>...</th>\n",
              "      <td>...</td>\n",
              "      <td>...</td>\n",
              "    </tr>\n",
              "    <tr>\n",
              "      <th>44893</th>\n",
              "      <td>Donald Trump s economic proposals would be dis...</td>\n",
              "      <td>0</td>\n",
              "    </tr>\n",
              "    <tr>\n",
              "      <th>44894</th>\n",
              "      <td>INDIANAPOLIS (Reuters) - President Donald Trum...</td>\n",
              "      <td>1</td>\n",
              "    </tr>\n",
              "    <tr>\n",
              "      <th>44895</th>\n",
              "      <td>During a private meeting of the most senior Re...</td>\n",
              "      <td>0</td>\n",
              "    </tr>\n",
              "    <tr>\n",
              "      <th>44896</th>\n",
              "      <td>AMMAN (Reuters) - Sabih al-Masri, Jordan s mos...</td>\n",
              "      <td>1</td>\n",
              "    </tr>\n",
              "    <tr>\n",
              "      <th>44897</th>\n",
              "      <td>BEIRUT (Reuters) - Lebanese President Michel A...</td>\n",
              "      <td>1</td>\n",
              "    </tr>\n",
              "  </tbody>\n",
              "</table>\n",
              "<p>44898 rows × 2 columns</p>\n",
              "</div>"
            ],
            "text/plain": [
              "                                                    text  label\n",
              "0      (Reuters) - The story “Trump son-in-law Jared ...      1\n",
              "1      WASHINGTON (Reuters) - Republican presidential...      1\n",
              "2      If America is going to end the day Donald Trum...      0\n",
              "3      WEST PALM BEACH, Fla. (Reuters) - U.S. Preside...      1\n",
              "4      Well, it seems that despite the efforts of not...      0\n",
              "...                                                  ...    ...\n",
              "44893  Donald Trump s economic proposals would be dis...      0\n",
              "44894  INDIANAPOLIS (Reuters) - President Donald Trum...      1\n",
              "44895  During a private meeting of the most senior Re...      0\n",
              "44896  AMMAN (Reuters) - Sabih al-Masri, Jordan s mos...      1\n",
              "44897  BEIRUT (Reuters) - Lebanese President Michel A...      1\n",
              "\n",
              "[44898 rows x 2 columns]"
            ]
          },
          "metadata": {
            "tags": []
          }
        }
      ]
    },
    {
      "cell_type": "code",
      "metadata": {
        "id": "QWN0XHzbreip"
      },
      "source": [
        "from sklearn.feature_extraction.text import TfidfVectorizer\n",
        "vectorizer = TfidfVectorizer(stop_words=\"english\")\n",
        "\n",
        "X = vectorizer.fit_transform(data_clean['text'])"
      ],
      "execution_count": null,
      "outputs": []
    },
    {
      "cell_type": "code",
      "metadata": {
        "id": "kfbKETYWreip"
      },
      "source": [
        "from sklearn.model_selection import train_test_split\n",
        "X_train, X_test, y_train, y_test = train_test_split( X, data[\"label\"], test_size=0.3, random_state=25)"
      ],
      "execution_count": null,
      "outputs": []
    },
    {
      "cell_type": "code",
      "metadata": {
        "id": "j4wQ7wdCreip",
        "outputId": "100c4ca5-6b0a-465a-8233-14bb915a0a7a"
      },
      "source": [
        "from sklearn.tree import DecisionTreeClassifier\n",
        "from sklearn.metrics import classification_report\n",
        "\n",
        "tree_clf = DecisionTreeClassifier()\n",
        "tree_clf.fit(X_train, y_train)\n",
        "tree_y_pred = tree_clf.predict(X_test)\n",
        "print(classification_report(y_test, tree_y_pred))"
      ],
      "execution_count": null,
      "outputs": [
        {
          "output_type": "stream",
          "text": [
            "              precision    recall  f1-score   support\n",
            "\n",
            "           0       0.99      1.00      1.00      7094\n",
            "           1       1.00      0.99      0.99      6376\n",
            "\n",
            "    accuracy                           1.00     13470\n",
            "   macro avg       1.00      0.99      1.00     13470\n",
            "weighted avg       1.00      1.00      1.00     13470\n",
            "\n"
          ],
          "name": "stdout"
        }
      ]
    },
    {
      "cell_type": "markdown",
      "metadata": {
        "id": "2REbDPHNreiq"
      },
      "source": [
        "### 4. Random Forest"
      ]
    },
    {
      "cell_type": "code",
      "metadata": {
        "id": "Z3ft_8mureiq",
        "outputId": "1bd47852-ca44-4ad9-cd46-08b937bd8f7b"
      },
      "source": [
        "from sklearn.ensemble import RandomForestClassifier \n",
        "forest = RandomForestClassifier(n_estimators=500, verbose=1)\n",
        "forest.fit(X_train, y_train)\n",
        "forest_y_pred = forest.predict(X_test)\n",
        "print(classification_report(y_test, forest_y_pred))"
      ],
      "execution_count": null,
      "outputs": [
        {
          "output_type": "stream",
          "text": [
            "[Parallel(n_jobs=1)]: Using backend SequentialBackend with 1 concurrent workers.\n",
            "[Parallel(n_jobs=1)]: Done 500 out of 500 | elapsed:  5.7min finished\n",
            "[Parallel(n_jobs=1)]: Using backend SequentialBackend with 1 concurrent workers.\n"
          ],
          "name": "stderr"
        },
        {
          "output_type": "stream",
          "text": [
            "              precision    recall  f1-score   support\n",
            "\n",
            "           0       1.00      0.99      0.99      7094\n",
            "           1       0.99      0.99      0.99      6376\n",
            "\n",
            "    accuracy                           0.99     13470\n",
            "   macro avg       0.99      0.99      0.99     13470\n",
            "weighted avg       0.99      0.99      0.99     13470\n",
            "\n"
          ],
          "name": "stdout"
        },
        {
          "output_type": "stream",
          "text": [
            "[Parallel(n_jobs=1)]: Done 500 out of 500 | elapsed:    5.2s finished\n"
          ],
          "name": "stderr"
        }
      ]
    },
    {
      "cell_type": "markdown",
      "metadata": {
        "id": "I3l6bxNnreiq"
      },
      "source": [
        "### 5. Boosting"
      ]
    },
    {
      "cell_type": "code",
      "metadata": {
        "id": "8Ats2lNMreiq",
        "outputId": "9e0cb7ee-960f-4d44-e1bf-37e373bffd08"
      },
      "source": [
        "from sklearn.ensemble import GradientBoostingClassifier\n",
        "gb_clf = GradientBoostingClassifier(n_estimators=1000, n_iter_no_change=15, random_state=10, verbose=1)\n",
        "gb_clf.fit(X_train, y_train)\n",
        "gb_y_pred = gb_clf.predict(X_test)\n",
        "print(classification_report(y_test, gb_y_pred))"
      ],
      "execution_count": null,
      "outputs": [
        {
          "output_type": "stream",
          "text": [
            "      Iter       Train Loss   Remaining Time \n",
            "         1           1.1982           39.97m\n",
            "         2           1.0457           39.33m\n",
            "         3           0.9187           39.24m\n",
            "         4           0.8115           39.14m\n",
            "         5           0.7200           39.08m\n",
            "         6           0.6412           39.00m\n",
            "         7           0.5731           38.92m\n",
            "         8           0.5134           38.87m\n",
            "         9           0.4612           38.84m\n",
            "        10           0.4155           38.75m\n",
            "        20           0.1651           38.10m\n",
            "        30           0.0831           37.64m\n",
            "        40           0.0525           37.35m\n",
            "        50           0.0391           36.97m\n",
            "        60           0.0325           36.58m\n",
            "        70           0.0259           36.20m\n",
            "        80           0.0242           35.84m\n",
            "        90           0.0230           35.48m\n",
            "       100           0.0224           35.20m\n",
            "              precision    recall  f1-score   support\n",
            "\n",
            "           0       1.00      0.99      0.99      7094\n",
            "           1       0.99      1.00      0.99      6376\n",
            "\n",
            "    accuracy                           0.99     13470\n",
            "   macro avg       0.99      0.99      0.99     13470\n",
            "weighted avg       0.99      0.99      0.99     13470\n",
            "\n"
          ],
          "name": "stdout"
        }
      ]
    },
    {
      "cell_type": "code",
      "metadata": {
        "id": "OLUtxxV7reir"
      },
      "source": [
        "\n"
      ],
      "execution_count": null,
      "outputs": []
    }
  ]
}