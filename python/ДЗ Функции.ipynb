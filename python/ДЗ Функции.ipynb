{
 "cells": [
  {
   "cell_type": "markdown",
   "metadata": {},
   "source": [
    "ДЗ функции"
   ]
  },
  {
   "cell_type": "markdown",
   "metadata": {},
   "source": [
    "Задача 1. Напишите генератор названий компаний (почти как генератор паролей). Пусть в названии компании будет 6 частей, рандомно выбирающихся из списка names."
   ]
  },
  {
   "cell_type": "code",
   "execution_count": 50,
   "metadata": {},
   "outputs": [
    {
     "name": "stdout",
     "output_type": "stream",
     "text": [
      "развитиеметалметалонлайнмикрометал\n"
     ]
    }
   ],
   "source": [
    "# генератор названий компаний\n",
    "\n",
    "import random\n",
    "\n",
    "names = [\"пром\",\"агро\",\"торг\",\"урал\",\"север\",\"юг\",\"техно\",\n",
    "\"экспо\",\"метал\",\"нефть\",\"сельхоз\",\"фарм\",\"строй\",\n",
    "\"кредит\",\"алмаз\",\"-девелопмент\",\"развитие\",\"мос\",\n",
    "\"рос\",\"кубань\",\"сибирь\",\"восток\",\"нано\",\"софт\",\n",
    "\"микро\",\"онлайн\",\"инвест\",\"текстиль\",\"цемент\"]\n",
    "\n",
    "name = ''\n",
    "company = ''\n",
    "\n",
    "# Ваш код ниже\n",
    "for x in range(6):\n",
    "    company += name + random.choice(names)\n",
    "\n",
    "\n",
    "print(company)\n",
    "\n",
    "# запустите ячейку несклько раз"
   ]
  },
  {
   "cell_type": "markdown",
   "metadata": {},
   "source": [
    "\n",
    "Задача 2. Транслитератор-2, более сложный\n",
    "\n",
    "Примерный порядок действий:\n",
    "\n",
    "напишите побуквенный транслитератор с кириллицы на латиницу(можно использовать написанный в прошлый раз)\n",
    "\n",
    "\"оберните\" ваш код транслитератора в функцию (т.е.сам код транслитератора будет в теле функции. Опишите функцию: как она называется, что у нее за аргументы, что она возвращает на выходе)\n",
    "\n",
    "Вызовите функцию: примените функцию к тексту (возьмите любой, на ваш выбор, длиной от 2 до 4 предложений. Хорошая идея - искать в статьях на Википедии)\n",
    "\n",
    "3.1. чтобы работать с текстом, сохраните его в переменную"
   ]
  },
  {
   "cell_type": "code",
   "execution_count": 51,
   "metadata": {},
   "outputs": [
    {
     "data": {
      "text/plain": [
       "\"Mlekopitayushchie rasprostraneny po vsemu miru i vstrechayutsya na vseh kontinentah, vo vseh okeanah i na bol'shinstve sushchestvuyushchih ostrovov. Sovremennyy areal odnoprohodnyh ogranichivaetsya Avstraliey, Tasmaniey i Novoy Gvineey, sumchatyh — territoriey Avstralii, Okeanii i oboih amerikanskih kontinentov. \""
      ]
     },
     "execution_count": 51,
     "metadata": {},
     "output_type": "execute_result"
    }
   ],
   "source": [
    "def translit (text):    #функция принимает переменную text\n",
    "    letters = {\n",
    "    'а':'a',\n",
    "    'б':'b',\n",
    "    'в':'v',\n",
    "    'г':'g',\n",
    "    'д':'d',\n",
    "    'е':'e',\n",
    "    'ё':'yo',\n",
    "    'ж':'zh',\n",
    "    'з':'z',\n",
    "    'и':'i',\n",
    "    'й':'y',\n",
    "    'к':'k',\n",
    "    'л':'l',\n",
    "    'м':'m',\n",
    "    'н':'n',\n",
    "    'о':'o',\n",
    "    'п':'p',\n",
    "    'р':'r',\n",
    "    'с':'s',\n",
    "    'т':'t',\n",
    "    'у':'u',\n",
    "    'ф':'f',\n",
    "    'х':'h',\n",
    "    'ц':'ts',\n",
    "    'ч':'ch',\n",
    "    'ш':'sh',\n",
    "    'щ':'shch',\n",
    "    'ъ':'y',\n",
    "    'ы':'y',\n",
    "    'ь':\"'\",\n",
    "    'э':'e',\n",
    "    'ю':'yu',\n",
    "    'я':'ya',\n",
    "    ' ':' ',\n",
    "    ',':',',\n",
    "    '.':'.',\n",
    "    '-':'-',\n",
    "    '—':'—',\n",
    "\n",
    "    'А':'A',\n",
    "    'Б':'B',\n",
    "    'В':'V',\n",
    "    'Г':'G',\n",
    "    'Д':'D',\n",
    "    'Е':'E',\n",
    "    'Ё':'Yo',\n",
    "    'Ж':'Zh',\n",
    "    'З':'Z',\n",
    "    'И':'I',\n",
    "    'Й':'Y',\n",
    "    'К':'K',\n",
    "    'Л':'L',\n",
    "    'М':'M',\n",
    "    'Н':'N',\n",
    "    'О':'O',\n",
    "    'П':'P',\n",
    "    'Р':'R',\n",
    "    'С':'S',\n",
    "    'Т':'T',\n",
    "    'У':'U',\n",
    "    'Ф':'F',\n",
    "    'Х':'H',\n",
    "    'Ц':'Ts',\n",
    "    'Ч':'Ch',\n",
    "    'Ш':'Sh',\n",
    "    'Щ':'Shch',\n",
    "    'Ъ':'Y',\n",
    "    'Ы':'Y',\n",
    "    'Ь':\"'\",\n",
    "    'Э':'E',\n",
    "    'Ю':'Yu',\n",
    "    'Я':'Ya',\n",
    "}\n",
    "\n",
    "    for i in text:               #берет каждый элемент из переменной text\n",
    "        text = text.replace(i, letters[i]) #заменяет этот каждый элемент в переменной text на соответсвующий ему в словаре letters\n",
    "    return text #завершает функцию и выводит переменную text\n",
    "\n",
    "text = ('Млекопитающие распространены по всему миру и встречаются на всех континентах, во всех океанах и на большинстве существующих островов. Современный ареал однопроходных ограничивается Австралией, Тасманией и Новой Гвинеей, сумчатых — территорией Австралии, Океании и обоих американских континентов. ')\n",
    "\n",
    "translit (text)\n"
   ]
  },
  {
   "cell_type": "markdown",
   "metadata": {},
   "source": [
    "Задача 3. Усовершенствованный генератор паролей\n",
    "\n",
    "Используя генератор паролей описанный в начале тетрадки, создайте свой. Пароли, получаемые в результате, должны удовлетворять следующим условиям: - длина пароля - 15 символов - в пароле есть 3 заглавные буквы (любые, в любом месте пароля) - в пароле есть 4 цифры (любые, в любом месте) - оставшиеся символы пароля - строчные латинские буквы"
   ]
  },
  {
   "cell_type": "code",
   "execution_count": 52,
   "metadata": {},
   "outputs": [
    {
     "name": "stdout",
     "output_type": "stream",
     "text": [
      "26mvac8sXU9yhVd\n"
     ]
    }
   ],
   "source": [
    "# генератор паролей\n",
    "\n",
    "import random\n",
    "\n",
    "\n",
    "letter_small = ('qwertyuiopasdfghjklzxcvbnm')\n",
    "letter_big = ('QWERTYUIOPASDFGHJKLZXCVBNM')\n",
    "digits = ('123456789')\n",
    "\n",
    "password = ''\n",
    "password_x = ''\n",
    "lbpas = ''\n",
    "lspas = ''\n",
    "digpas = ''\n",
    "\n",
    "\n",
    "for a in range(3):\n",
    "    lbpas = lbpas + random.choice(letter_big)\n",
    "    \n",
    "for b in range(8):\n",
    "    lspas = lspas + random.choice(letter_small)    \n",
    "    \n",
    "for c in range(4):\n",
    "    digpas = digpas + random.choice(digits)\n",
    "               \n",
    "passw = lbpas + lspas + digpas\n",
    "\n",
    "password_x = random.sample(passw, 15)\n",
    "\n",
    "\n",
    "\n",
    "for i in password_x:\n",
    "    password = password + i\n",
    "\n",
    "    \n",
    "print(password)\n",
    "\n",
    "\n",
    "\n",
    "# запустите ячейку несклько раз: пароли меняются"
   ]
  },
  {
   "cell_type": "code",
   "execution_count": null,
   "metadata": {},
   "outputs": [],
   "source": []
  }
 ],
 "metadata": {
  "kernelspec": {
   "display_name": "Python 3",
   "language": "python",
   "name": "python3"
  },
  "language_info": {
   "codemirror_mode": {
    "name": "ipython",
    "version": 3
   },
   "file_extension": ".py",
   "mimetype": "text/x-python",
   "name": "python",
   "nbconvert_exporter": "python",
   "pygments_lexer": "ipython3",
   "version": "3.9.0"
  }
 },
 "nbformat": 4,
 "nbformat_minor": 4
}
