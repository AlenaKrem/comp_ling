{
 "cells": [
  {
   "cell_type": "markdown",
   "metadata": {},
   "source": [
    "Дополнительное дз по регулярным выражениям"
   ]
  },
  {
   "cell_type": "code",
   "execution_count": 1,
   "metadata": {},
   "outputs": [],
   "source": [
    "import re"
   ]
  },
  {
   "cell_type": "markdown",
   "metadata": {},
   "source": [
    "Необходимо выяснить, сколько в тексте:\n",
    "   - уникальных адресов электронной почты,\n",
    "   - уникальных доменных имен (все после @ )"
   ]
  },
  {
   "cell_type": "code",
   "execution_count": 34,
   "metadata": {},
   "outputs": [
    {
     "name": "stdout",
     "output_type": "stream",
     "text": [
      "['janedoeentrprise@bell.com', '“baseballbro25@aim.com', 'jsmith@example.com', 'simple@example.com', 'very.common@example.com', 'disposable.style.email.with+symbol@example.com', 'other.email-with-hyphen@example.com', 'fully-qualified-domain@example.com', 'x@example.com', 'example-indeed@strange-example.com', '\"@example.org', '\"john..doe\"@example.org', 'mailhost!username@example.org', '@gmail.com', 'Pelé@example.com', 'δοκιμή@παράδειγμα.δοκιμή', '我買@屋企.香港', '二ノ宮@黒川.日本', 'медведь@с-балалайкой.рф', 'संपर्क@डाटामेल.भ']\n",
      "20\n",
      "{'黒川.日本', '屋企.香港', 'डाटामेल.भ', 'bell.com', 'παράδειγμα.δοκιμή', 'example.com', 'aim.com', 'example.org', 'strange-example.com', 'gmail.com', 'с-балалайкой.рф'}\n",
      "11\n"
     ]
    }
   ],
   "source": [
    "text = \"\"\"your name in lower letters@ the name of the internet provider example\n",
    "\n",
    "Well, janedoeentrprise@bell.com this is just example you do not have to use your own name you can use the name of your company if you have one. OR any name that comes to mind as long as you have the correct internet providers address\n",
    "\n",
    "Even if “baseballbro25@aim.com” serves as a nostalgic reminder for your peak athletic years, it’ll look like an eyesore on your resume and prompt any recruiter or hiring manager to press delete.\n",
    "\n",
    "A specific example is jsmith@example.com. Thus, an address consists of two principal parts, a username and a domain name. The domain name is used to transport a mail message to the host of the recipient's mail system.\n",
    "\n",
    "simple@example.com\n",
    "very.common@example.com\n",
    "disposable.style.email.with+symbol@example.com\n",
    "other.email-with-hyphen@example.com\n",
    "fully-qualified-domain@example.com\n",
    "x@example.com (one-letter local-part)\n",
    "example-indeed@strange-example.com\n",
    "\" \"@example.org (space between the quotes)\n",
    "\"john..doe\"@example.org (quoted double dot)\n",
    "mailhost!username@example.org (bangified host route used for uucp mailers)\n",
    "Gmail ignores all dots in the local-part of a @gmail.com address for the purposes of determining account identity.[12] The example addresses below would not be handled by RFC 5322 based servers, but are permitted by RFC 6530. Servers compliant with this will be able to handle these:\n",
    "\n",
    "Latin alphabet with diacritics: Pelé@example.com\n",
    "Greek alphabet: δοκιμή@παράδειγμα.δοκιμή\n",
    "Traditional Chinese characters: 我買@屋企.香港\n",
    "Japanese characters: 二ノ宮@黒川.日本\n",
    "Cyrillic characters: медведь@с-балалайкой.рф\n",
    "Devanagari characters: संपर्क@डाटामेल.भारत\n",
    "\"\"\"\n",
    "\n",
    "result = re.findall (r'\\S*@\\S+\\.\\w+', text)\n",
    "print(result)\n",
    "print(len(result))\n",
    "\n",
    "\n",
    "domens = re.findall (r'@(\\S+\\.\\w+)', text)\n",
    "domens = set(domens)\n",
    "print(domens)\n",
    "print(len(domens))"
   ]
  },
  {
   "cell_type": "code",
   "execution_count": null,
   "metadata": {},
   "outputs": [],
   "source": []
  },
  {
   "cell_type": "code",
   "execution_count": null,
   "metadata": {},
   "outputs": [],
   "source": []
  }
 ],
 "metadata": {
  "kernelspec": {
   "display_name": "Python 3",
   "language": "python",
   "name": "python3"
  },
  "language_info": {
   "codemirror_mode": {
    "name": "ipython",
    "version": 3
   },
   "file_extension": ".py",
   "mimetype": "text/x-python",
   "name": "python",
   "nbconvert_exporter": "python",
   "pygments_lexer": "ipython3",
   "version": "3.9.0"
  }
 },
 "nbformat": 4,
 "nbformat_minor": 4
}
